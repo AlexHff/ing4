{
 "cells": [
  {
   "cell_type": "markdown",
   "metadata": {},
   "source": [
    "# Bike Rental Prediction"
   ]
  },
  {
   "cell_type": "code",
   "execution_count": null,
   "metadata": {
    "collapsed": true
   },
   "outputs": [],
   "source": [
    "#First, let's import the nesseacary labraries\n",
    "import warnings\n",
    "warnings.filterwarnings('ignore')\n",
    "import pandas as pd\n",
    "import numpy as np\n"
   ]
  },
  {
   "cell_type": "markdown",
   "metadata": {},
   "source": [
    "## 1. Import the data and print some statistics \n",
    "more information about the data set can be found in:  https://archive.ics.uci.edu/ml/datasets/Bike+Sharing+Dataset"
   ]
  },
  {
   "cell_type": "code",
   "execution_count": null,
   "metadata": {
    "collapsed": true,
    "scrolled": true
   },
   "outputs": [],
   "source": [
    "df=pd.read_csv(\"Bike Rental UCI dataset.csv\")\n",
    "print ('the data frame has a shape :', df.shape)\n",
    "print ('let\\'s print the first five rows \\n', df.head())"
   ]
  },
  {
   "cell_type": "code",
   "execution_count": null,
   "metadata": {
    "collapsed": true
   },
   "outputs": [],
   "source": [
    "print (df.info())\n",
    "print (df.describe())"
   ]
  },
  {
   "cell_type": "markdown",
   "metadata": {},
   "source": [
    "Looks like the dataframe has 17379 rows and 13 columns. There is one columns of type object (text) <br>\n",
    "temp, hum, windspeed are rescaled to 0-1 range\n",
    "\n",
    "## 2. Visualize the data"
   ]
  },
  {
   "cell_type": "code",
   "execution_count": null,
   "metadata": {
    "collapsed": true
   },
   "outputs": [],
   "source": [
    "# make sure that the visualizations are printed in the notebook\n",
    "%matplotlib inline   \n",
    "\n",
    "def bike_scatter(df, cols):\n",
    "    import matplotlib.pyplot as plt\n",
    "    import statsmodels.nonparametric.smoothers_lowess as lw\n",
    "    \n",
    "    ## Loop over the columns and create the scatter plots\n",
    "    for col in cols:\n",
    "        ## first compute a lowess fit to the data\n",
    "        los = lw.lowess(df['demand'], df[col], frac = 0.3)\n",
    "    \n",
    "        ## Now make the plots\n",
    "        fig = plt.figure(figsize=(6, 4))\n",
    "        fig.clf()\n",
    "        ax = fig.gca()\n",
    "        df.plot(kind = 'scatter', x = col, y = 'demand', ax = ax, alpha = 0.05)\n",
    "        plt.plot(los[:, 0], los[:, 1], axes = ax, color = 'red')\n",
    "        ax.set_xlabel(col)\n",
    "        ax.set_ylabel('Number of bikes')\n",
    "        ax.set_title('Number of bikes vs. ' + col)    \n",
    "    return 'Done'\n",
    "\n",
    "num_cols = [\"temp\", \"hum\", \"windspeed\", \"hr\"] \n",
    "bike_scatter(df, num_cols)"
   ]
  },
  {
   "cell_type": "code",
   "execution_count": null,
   "metadata": {
    "collapsed": true
   },
   "outputs": [],
   "source": [
    "def bike_box(df, cols):\n",
    "    import matplotlib.pyplot as plt\n",
    "    \n",
    "    ## Loop over the columns and create the box plots\n",
    "    for col in cols:\n",
    "        fig = plt.figure(figsize=(6, 4))\n",
    "        fig.clf()\n",
    "        ax = fig.gca()\n",
    "        df.boxplot(column = 'demand', by = col, ax = ax)\n",
    "        ax.set_xlabel(col)\n",
    "        ax.set_ylabel('Number of bikes')\n",
    "        ax.set_title('Number of bikes vs. ' + col)    \n",
    "    return 'Done'\n",
    "cat_cols = ['season', 'yr', 'mnth', 'hr', 'holiday','workingday', 'weathersit', 'dayOfWeek']\n",
    "bike_box(df, cat_cols)"
   ]
  },
  {
   "cell_type": "code",
   "execution_count": null,
   "metadata": {
    "collapsed": true
   },
   "outputs": [],
   "source": [
    "def bike_series(df, tms):\n",
    "    import matplotlib.pyplot as plt\n",
    "        \n",
    "    lims = (min(df.demand), max(df.demand))   \n",
    "    for t in tms:\n",
    "        fig = plt.figure(figsize=(8, 6))\n",
    "        fig.clf()\n",
    "        ax = fig.gca()\n",
    "        df[df.hr == t].plot(kind = 'line', x = 'days', y = 'demand',\n",
    "                            ylim = lims, ax = ax)    \n",
    "        plt.xlabel(\"Days from start\")\n",
    "        plt.ylabel(\"Bikes rented\")\n",
    "        plt.title(\"Bikes rented by day for hour = \" + str(t))\n",
    "    return 'Done'\n",
    "plt_times = [6, 8, 10, 12, 14, 16, 18, 20]\n",
    "bike_series(df, plt_times)"
   ]
  },
  {
   "cell_type": "code",
   "execution_count": null,
   "metadata": {
    "collapsed": true
   },
   "outputs": [],
   "source": [
    "def bike_hist(df, cols):    \n",
    "    import matplotlib.pyplot as plt\n",
    "    \n",
    "    ## Loop over columns and plot histograms\n",
    "    for col in cols:\n",
    "        fig = plt.figure(figsize=(6, 4))\n",
    "        fig.clf()\n",
    "        ax = fig.gca()\n",
    "        df[col].hist(bins = 30, ax = ax)\n",
    "        ax.set_xlabel(col)\n",
    "        ax.set_ylabel('Density of ' + col)\n",
    "        ax.set_title('Density of ' + col) \n",
    "    \n",
    "    return 'Done'\n",
    "hist_cols = [\"demand\", \"temp\", \"hum\", \"windspeed\"]\n",
    "bike_hist(df, hist_cols)"
   ]
  },
  {
   "cell_type": "markdown",
   "metadata": {},
   "source": [
    "## 3. Building the Model"
   ]
  },
  {
   "cell_type": "code",
   "execution_count": null,
   "metadata": {
    "collapsed": true
   },
   "outputs": [],
   "source": [
    "# custom function to split a dataframe on the column \"days\"\n",
    "def split_on_days(X, y, test_size = 0.3):    \n",
    "    splitting_threshold = #your code here#\n",
    "    X_train, y_train = #your code here#\n",
    "    X_test, y_test = #your code here#\n",
    "    return X_train, X_test, y_train, y_test "
   ]
  },
  {
   "cell_type": "code",
   "execution_count": null,
   "metadata": {
    "collapsed": true
   },
   "outputs": [],
   "source": [
    "y = # complete with the demand column\n",
    "X = # the rest of the columns\n",
    "X.dayOfWeek = X.dayOfWeek.astype(\"category\").cat.codes # convert categorical into numerical\n",
    "\n",
    "X_train, X_test, y_train, y_test = split_on_days(X, y, test_size=0.3)\n",
    "\n",
    "print (\"the max day in X_train is : {}\".format(#your code))\n",
    "print (\"the min day in X_test is: %d\" %#your code)\n",
    "print (\"*\"*50)\n",
    "print('X_train length = %d,  y_train length = %d' %(#your code))\n",
    "print('X_test length = %d,  y_test length = %d' %(#your code))"
   ]
  },
  {
   "cell_type": "code",
   "execution_count": null,
   "metadata": {
    "collapsed": true
   },
   "outputs": [],
   "source": [
    "# import LinearRegression : http://scikit-learn.org/stable/modules/generated/sklearn.linear_model.LinearRegression.html\n",
    "\n",
    "reg = LinearRegression()\n",
    "reg.fit(X_train, y_train)\n",
    "train_score = reg.score(X_train, y_train)\n",
    "test_score = # your code\n",
    "print  ('train score =' , #your code)\n",
    "print  ('test score = {}', , #your code)"
   ]
  },
  {
   "cell_type": "markdown",
   "metadata": {
    "collapsed": true
   },
   "source": [
    "Looks like the model is not fitting well the data, since R2 is small. \n",
    "There might also be a sign of overfitting since there is a little difference between training and test r-square. Let's now print the model's parameters"
   ]
  },
  {
   "cell_type": "code",
   "execution_count": null,
   "metadata": {
    "collapsed": true
   },
   "outputs": [],
   "source": [
    "print  ('Coeffecients = ', # your code )\n",
    "print ('Intecept = ', # your code )"
   ]
  },
  {
   "cell_type": "markdown",
   "metadata": {},
   "source": [
    "Let's print some other metrics"
   ]
  },
  {
   "cell_type": "code",
   "execution_count": null,
   "metadata": {
    "collapsed": true
   },
   "outputs": [],
   "source": [
    "from sklearn.metrics import mean_squared_error\n",
    "from sklearn.metrics import mean_absolute_error\n",
    "from sklearn.metrics import r2_score\n",
    "import math\n",
    "y_pred = reg.predict(X_test)  # predict the demand for X_test\n",
    "mse = mean_squared_error(y_test, y_pred)  # Real vs predicted demand for X_test\n",
    "mae = # your code here\n",
    "r2 = # your code here\n",
    "print ('mse = {}, rmse = {} \\nmae = {} r2 = {}'.format(mse,math.sqrt(mse), mae, r2))"
   ]
  },
  {
   "cell_type": "markdown",
   "metadata": {},
   "source": [
    "## 4. Visualize the model's performance"
   ]
  },
  {
   "cell_type": "code",
   "execution_count": null,
   "metadata": {
    "collapsed": true
   },
   "outputs": [],
   "source": [
    "def ts_bikes(df, times):\n",
    "    import matplotlib\n",
    "    matplotlib.use('agg')  # Set backend\n",
    "    import matplotlib.pyplot as plt\n",
    "    for tm in times:\n",
    "        fig = plt.figure(figsize=(8, 6))\n",
    "        fig.clf()\n",
    "        ax = fig.gca()\n",
    "        df[df.hr == tm].plot(kind = 'line', \n",
    "                              x = 'days', y = 'demand', ax = ax)          \n",
    "        df[df.hr == tm].plot(kind = 'line', \n",
    "                              x = 'days', y = 'predicted', color = 'red', ax = ax)                                    \n",
    "        plt.xlabel(\"Days from start\")\n",
    "        plt.ylabel(\"Number of bikes rented\")\n",
    "        plt.title(\"Bikes rented for hour = \" + str(tm))\n",
    "        #fig.savefig('ts_' + str(tm) + '.png')\n",
    "    return 'Done'\n",
    "\n",
    "X_test['predicted']=y_pred\n",
    "X_test['demand']=y_test\n",
    "X_test.sort('days',inplace=True)\n",
    "ts_bikes(X_test, plt_times)"
   ]
  },
  {
   "cell_type": "markdown",
   "metadata": {},
   "source": [
    "Looks like the model is not doing a great job in fitting the demand for hours 8 and 18. Let's plot the reisuals for all hours"
   ]
  },
  {
   "cell_type": "code",
   "execution_count": null,
   "metadata": {
    "collapsed": true
   },
   "outputs": [],
   "source": [
    "def resids(df):\n",
    "    df['resids'] = df.predicted - df.demand\n",
    "    return df        \n",
    "        \n",
    "def box_resids(df):\n",
    "    import matplotlib\n",
    "    matplotlib.use('agg')  # Set backend\n",
    "    import matplotlib.pyplot as plt\n",
    "    \n",
    "    df = resids(df)\n",
    "    \n",
    "    fig = plt.figure(figsize=(12, 6))\n",
    "    fig.clf()\n",
    "    ax = fig.gca()  \n",
    "    df.boxplot(column = ['resids'], by = ['hr'], ax = ax)   \n",
    "    plt.xlabel('')\n",
    "    plt.ylabel('Residuals')\n",
    "    fig.savefig('boxes' + '.png')\n",
    "    return 'Done'\n",
    "box_resids(X_test)"
   ]
  },
  {
   "cell_type": "markdown",
   "metadata": {},
   "source": [
    "for hours 7,8, 17, 18 most of the residuals are negative, so our model is under-predecting the demand"
   ]
  },
  {
   "cell_type": "markdown",
   "metadata": {},
   "source": [
    "Plot the histogram of residuals. A good model has residuals centered around zero"
   ]
  },
  {
   "cell_type": "code",
   "execution_count": null,
   "metadata": {
    "collapsed": true
   },
   "outputs": [],
   "source": [
    "resids(X_test)['resids'].hist(bins=100)"
   ]
  },
  {
   "cell_type": "code",
   "execution_count": null,
   "metadata": {
    "collapsed": true
   },
   "outputs": [],
   "source": [
    "import matplotlib.pyplot as plt\n",
    "plt.scatter(y_test, resids(X_test)['resids'])\n",
    "plt.hlines(y=0, xmin=0,xmax=y_test.max(), color='r')\n",
    "plt.xlabel('y_test')\n",
    "plt.ylabel('Residuals')\n",
    "plt.show()"
   ]
  },
  {
   "cell_type": "markdown",
   "metadata": {},
   "source": [
    "As we've seen before, there might be a sign of overfitting, so regularization might help improving the model's performance on test set. Let's try Ridge and Lasso to confirm that"
   ]
  },
  {
   "cell_type": "code",
   "execution_count": null,
   "metadata": {
    "collapsed": true
   },
   "outputs": [],
   "source": [
    "# Split the data again into X_train, X_test, y_train, y_test \n",
    "\n",
    "# Import Ridge : http://scikit-learn.org/stable/modules/generated/sklearn.linear_model.Ridge.html#sklearn.linear_model.Ridge\n",
    "\n",
    "# import Lasso : http://scikit-learn.org/stable/modules/generated/sklearn.linear_model.Lasso.html#sklearn.linear_model.Lasso\n",
    "\n",
    "# try different values for alpha = [0.001, 0.01, 0.1, 1, 10, 100,1000,1000]\n",
    "\n",
    "\n",
    "\n",
    "\n",
    "print  ('train score =', )\n",
    "print  ('test score = ', ) \n",
    "print  ('Coeffecients = ', )"
   ]
  },
  {
   "cell_type": "markdown",
   "metadata": {},
   "source": [
    "You can see that regularization is not bringing improvment to the model. The performance is decreasing with large values of alpha. The main difference is that with Lasso, parameters are shrinked to zero"
   ]
  },
  {
   "cell_type": "markdown",
   "metadata": {},
   "source": [
    "Another way of improving the model is by adding extra features (complexity). As we've seen before, the model has poor performance for some hours. Let's add Boolean features indicating the model each hour. These are also called dummy variables."
   ]
  },
  {
   "cell_type": "code",
   "execution_count": null,
   "metadata": {
    "collapsed": true
   },
   "outputs": [],
   "source": [
    "for hour in df.hr.unique():\n",
    "    col='is_'+str(hour)\n",
    "    df[col]= (df.hr == hour).astype(\"int\")\n",
    "print (df.columns)"
   ]
  },
  {
   "cell_type": "code",
   "execution_count": null,
   "metadata": {
    "collapsed": true
   },
   "outputs": [],
   "source": [
    "df[[\"hr\"] + [\"is_\" + str(i) for i in range(24)]].head(24)"
   ]
  },
  {
   "cell_type": "markdown",
   "metadata": {},
   "source": [
    "Re-train your model"
   ]
  },
  {
   "cell_type": "code",
   "execution_count": null,
   "metadata": {
    "collapsed": true
   },
   "outputs": [],
   "source": [
    "y = #\n",
    "X = #\n",
    "X.dayOfWeek = X.dayOfWeek.astype(\"category\").cat.codes\n",
    "\n",
    "\n",
    "\n",
    "\n",
    "print  ('train score =', )\n",
    "print  ('test score = ', )"
   ]
  },
  {
   "cell_type": "code",
   "execution_count": null,
   "metadata": {
    "collapsed": true
   },
   "outputs": [],
   "source": [
    "y_pred = reg.predict(X_test)  # predict the demand for X_test\n",
    "X_test['predicted']=y_pred\n",
    "X_test['demand']=y_test\n",
    "ts_bikes(X_test, plt_times)"
   ]
  },
  {
   "cell_type": "markdown",
   "metadata": {},
   "source": [
    "Visualize the residuals"
   ]
  },
  {
   "cell_type": "code",
   "execution_count": null,
   "metadata": {
    "collapsed": true
   },
   "outputs": [],
   "source": [
    "box_resids(X_test)"
   ]
  },
  {
   "cell_type": "code",
   "execution_count": null,
   "metadata": {
    "collapsed": true
   },
   "outputs": [],
   "source": [
    "import matplotlib.pyplot as plt\n",
    "plt.scatter(y_test, resids(X_test)['resids'])\n",
    "plt.hlines(y=0, xmin=0,xmax=y_test.max(), color='r')\n",
    "plt.xlabel('y_test')\n",
    "plt.ylabel('Residuals')\n",
    "plt.show()"
   ]
  },
  {
   "cell_type": "code",
   "execution_count": null,
   "metadata": {
    "collapsed": true
   },
   "outputs": [],
   "source": []
  }
 ],
 "metadata": {
  "anaconda-cloud": {},
  "kernelspec": {
   "display_name": "Python 3",
   "language": "python",
   "name": "python3"
  },
  "language_info": {
   "codemirror_mode": {
    "name": "ipython",
    "version": 3
   },
   "file_extension": ".py",
   "mimetype": "text/x-python",
   "name": "python",
   "nbconvert_exporter": "python",
   "pygments_lexer": "ipython3",
   "version": "3.5.4"
  }
 },
 "nbformat": 4,
 "nbformat_minor": 1
}
