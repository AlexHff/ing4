{
 "cells": [
  {
   "cell_type": "code",
   "execution_count": 3,
   "metadata": {},
   "outputs": [],
   "source": [
    "import pymongo\n",
    "client = pymongo.MongoClient('mongodb://localhost:27017/')\n",
    "db = client['company']\n",
    "col = db['employees']"
   ]
  },
  {
   "cell_type": "code",
   "execution_count": 70,
   "metadata": {},
   "outputs": [
    {
     "name": "stdout",
     "output_type": "stream",
     "text": [
      "{'count': 3, 'city': 'Chicago'}\n",
      "{'count': 1, 'city': 'Berlin'}\n",
      "{'count': 2, 'city': 'Paris'}\n",
      "{'count': 1, 'city': 'Dallas'}\n",
      "{'count': 1, 'city': 'Lyon'}\n",
      "{'count': 1, 'city': 'London'}\n"
     ]
    }
   ],
   "source": [
    "x = col.aggregate(\n",
    "    [\n",
    "        {\n",
    "            \"$unwind\": \"$missions\"\n",
    "        },\n",
    "        {\n",
    "            \"$group\": {\n",
    "                \"_id\": \"$missions.location\",\n",
    "                \"count\": { \"$sum\": 1 }\n",
    "            }\n",
    "        },\n",
    "        {\n",
    "            \"$match\": {\n",
    "                \"_id\": { \"$ne\": \"null\" }\n",
    "            }\n",
    "        },\n",
    "        {\n",
    "            \"$addFields\":\n",
    "            {\n",
    "                \"city\": \"$_id\"\n",
    "            }\n",
    "        },\n",
    "        {\n",
    "            \"$project\":\n",
    "            {\n",
    "                \"_id\": 0\n",
    "            }\n",
    "        }\n",
    "    ]\n",
    ")\n",
    "for i in x:\n",
    "    print(i)"
   ]
  },
  {
   "cell_type": "code",
   "execution_count": 13,
   "metadata": {
    "scrolled": true
   },
   "outputs": [
    {
     "name": "stdout",
     "output_type": "stream",
     "text": [
      "{ '_id': 7839.0,\n",
      "  'commission': None,\n",
      "  'hired': datetime.datetime(1981, 11, 17, 0, 0),\n",
      "  'job': 'president',\n",
      "  'manager': None,\n",
      "  'name': 'King',\n",
      "  'salary': 5000.0}\n",
      "{ '_id': 7839.0,\n",
      "  'commission': None,\n",
      "  'hired': datetime.datetime(1981, 11, 17, 0, 0),\n",
      "  'job': 'president',\n",
      "  'manager': None,\n",
      "  'name': 'King',\n",
      "  'salary': 5000.0}\n"
     ]
    }
   ],
   "source": [
    "import pprint\n",
    "x = col.find_one()\n",
    "pprint.PrettyPrinter(indent=2).pprint(x)\n",
    "x = col.find().limit(1)\n",
    "for i in x:\n",
    "    pprint.PrettyPrinter(indent=2).pprint(i)"
   ]
  }
 ],
 "metadata": {
  "kernelspec": {
   "display_name": "Python 3",
   "language": "python",
   "name": "python3"
  },
  "language_info": {
   "codemirror_mode": {
    "name": "ipython",
    "version": 3
   },
   "file_extension": ".py",
   "mimetype": "text/x-python",
   "name": "python",
   "nbconvert_exporter": "python",
   "pygments_lexer": "ipython3",
   "version": "3.6.9"
  }
 },
 "nbformat": 4,
 "nbformat_minor": 2
}
