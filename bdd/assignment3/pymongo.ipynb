{
 "cells": [
  {
   "cell_type": "code",
   "execution_count": 2,
   "metadata": {},
   "outputs": [],
   "source": [
    "import pymongo\n",
    "client = pymongo.MongoClient('mongodb://localhost:27017/')\n",
    "db = client['company']\n",
    "col = db['employees']"
   ]
  },
  {
   "cell_type": "code",
   "execution_count": 70,
   "metadata": {},
   "outputs": [
    {
     "name": "stdout",
     "output_type": "stream",
     "text": [
      "{'count': 3, 'city': 'Chicago'}\n",
      "{'count': 1, 'city': 'Berlin'}\n",
      "{'count': 2, 'city': 'Paris'}\n",
      "{'count': 1, 'city': 'Dallas'}\n",
      "{'count': 1, 'city': 'Lyon'}\n",
      "{'count': 1, 'city': 'London'}\n"
     ]
    }
   ],
   "source": [
    "x = col.aggregate(\n",
    "    [\n",
    "        {\n",
    "            \"$unwind\": \"$missions\"\n",
    "        },\n",
    "        {\n",
    "            \"$group\": {\n",
    "                \"_id\": \"$missions.location\",\n",
    "                \"count\": { \"$sum\": 1 }\n",
    "            }\n",
    "        },\n",
    "        {\n",
    "            \"$match\": {\n",
    "                \"_id\": { \"$ne\": \"null\" }\n",
    "            }\n",
    "        },\n",
    "        {\n",
    "            \"$addFields\":\n",
    "            {\n",
    "                \"city\": \"$_id\"\n",
    "            }\n",
    "        },\n",
    "        {\n",
    "            \"$project\":\n",
    "            {\n",
    "                \"_id\": 0\n",
    "            }\n",
    "        }\n",
    "    ]\n",
    ")\n",
    "for i in x:\n",
    "    print(i)"
   ]
  },
  {
   "cell_type": "code",
   "execution_count": 58,
   "metadata": {},
   "outputs": [
    {
     "name": "stdout",
     "output_type": "stream",
     "text": [
      "{'name': 'King', 'salary': 5000.0}\n",
      "{'name': 'Jones', 'salary': 2975.0}\n",
      "{'name': 'Blake', 'salary': 2850.0}\n",
      "{'name': 'Clark', 'salary': 3000.0}\n",
      "{'name': 'Smith', 'salary': 2450.0}\n",
      "{'name': 'Scott', 'salary': 3000.0}\n",
      "{'name': 'Ford', 'salary': 3000.0}\n",
      "{'name': 'Allen', 'salary': 1600.0}\n",
      "{'name': 'Ward', 'salary': 1250.0}\n",
      "{'name': 'Martin', 'salary': 1250.0}\n",
      "{'name': 'Turner', 'salary': 1500.0}\n",
      "{'name': 'James', 'salary': 950.0}\n",
      "{'name': 'Miller', 'salary': 1300.0}\n",
      "{'name': 'Adams', 'salary': 1100.0}\n",
      "{'name': 'Smith', 'salary': 800.0}\n"
     ]
    }
   ],
   "source": [
    "x = col.find({}, { \"_id\": 0, \"name\": 1, \"salary\": 1 })\n",
    "for i in x:\n",
    "    print(i)"
   ]
  }
 ],
 "metadata": {
  "kernelspec": {
   "display_name": "Python 3",
   "language": "python",
   "name": "python3"
  },
  "language_info": {
   "codemirror_mode": {
    "name": "ipython",
    "version": 3
   },
   "file_extension": ".py",
   "mimetype": "text/x-python",
   "name": "python",
   "nbconvert_exporter": "python",
   "pygments_lexer": "ipython3",
   "version": "3.6.9"
  }
 },
 "nbformat": 4,
 "nbformat_minor": 2
}
