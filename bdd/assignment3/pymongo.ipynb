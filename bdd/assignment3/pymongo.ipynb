{
 "cells": [
  {
   "cell_type": "code",
   "execution_count": 8,
   "metadata": {},
   "outputs": [],
   "source": [
    "import pymongo\n",
    "client = pymongo.MongoClient('mongodb://localhost:27017/')\n",
    "db = client['company']\n",
    "col = db['employees']"
   ]
  },
  {
   "cell_type": "code",
   "execution_count": 25,
   "metadata": {},
   "outputs": [
    {
     "name": "stdout",
     "output_type": "stream",
     "text": [
      "{'salary': 1300.0}\n"
     ]
    }
   ],
   "source": [
    "x = col.find( { 'job': 'clerk' }, { 'salary': 1, '_id': 0 } ).sort( \"salary\", -1 ).limit(1)\n",
    "for i in x:\n",
    "    print(i)"
   ]
  },
  {
   "cell_type": "code",
   "execution_count": 29,
   "metadata": {},
   "outputs": [
    {
     "name": "stdout",
     "output_type": "stream",
     "text": [
      "{'_id': {'job': 'president'}, 'avg': 5000.0}\n",
      "{'_id': {'job': 'manager'}, 'avg': 2818.75}\n",
      "{'_id': {'job': 'clerk'}, 'avg': 1037.5}\n",
      "{'_id': {'job': 'analyst'}, 'avg': 3000.0}\n",
      "{'_id': {'job': 'salesman'}, 'avg': 1400.0}\n"
     ]
    }
   ],
   "source": [
    "x = col.aggregate(    [\n",
    "        {\n",
    "            \"$group\":\n",
    "            {\n",
    "                \"_id\": { \"job\": \"$job\" },\n",
    "                \"avg\": { \"$avg\" :\"$salary\"}\n",
    "            }\n",
    "        }\n",
    "    ])\n",
    "for i in x:\n",
    "    print(i)"
   ]
  },
  {
   "cell_type": "code",
   "execution_count": null,
   "metadata": {},
   "outputs": [],
   "source": []
  }
 ],
 "metadata": {
  "kernelspec": {
   "display_name": "Python 3",
   "language": "python",
   "name": "python3"
  },
  "language_info": {
   "codemirror_mode": {
    "name": "ipython",
    "version": 3
   },
   "file_extension": ".py",
   "mimetype": "text/x-python",
   "name": "python",
   "nbconvert_exporter": "python",
   "pygments_lexer": "ipython3",
   "version": "3.6.9"
  }
 },
 "nbformat": 4,
 "nbformat_minor": 2
}
