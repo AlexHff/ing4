{
 "cells": [
  {
   "cell_type": "code",
   "execution_count": 3,
   "metadata": {},
   "outputs": [],
   "source": [
    "import pymongo\n",
    "client = pymongo.MongoClient('mongodb://localhost:27017/')\n",
    "db = client['company']\n",
    "col = db['employees']"
   ]
  },
  {
   "cell_type": "code",
   "execution_count": 22,
   "metadata": {},
   "outputs": [
    {
     "name": "stdout",
     "output_type": "stream",
     "text": [
      "{'_id': 'Paris', 'count': 2}\n",
      "{'_id': 'Chicago', 'count': 3}\n"
     ]
    }
   ],
   "source": [
    "x = col.aggregate(\n",
    "    [\n",
    "        {\n",
    "            \"$unwind\": \"$missions\"\n",
    "        },\n",
    "        {\n",
    "            \"$group\":\n",
    "            {\n",
    "                \"_id\": \"$missions.location\",\n",
    "                \"count\": { \"$sum\": 1 }\n",
    "            }\n",
    "        },\n",
    "        {\n",
    "            \"$match\":\n",
    "            {\n",
    "                \"_id\": { \"$ne\": \"null\" },\n",
    "                \"count\": { \"$gte\": 2 }\n",
    "            }\n",
    "        }\n",
    "    ]\n",
    ")\n",
    "for i in x:\n",
    "    print(i)"
   ]
  },
  {
   "cell_type": "code",
   "execution_count": 23,
   "metadata": {},
   "outputs": [
    {
     "name": "stdout",
     "output_type": "stream",
     "text": [
      "{'salary': 1300.0}\n"
     ]
    }
   ],
   "source": [
    "x = col.find(\n",
    "    {},\n",
    "    {\n",
    "        'salary': 1,\n",
    "        '_id': 0\n",
    "    }\n",
    ").sort(\n",
    "    \"salary\",\n",
    "    -1\n",
    ").limit(1)\n",
    "for i in x:\n",
    "    print(i)"
   ]
  }
 ],
 "metadata": {
  "kernelspec": {
   "display_name": "Python 3",
   "language": "python",
   "name": "python3"
  },
  "language_info": {
   "codemirror_mode": {
    "name": "ipython",
    "version": 3
   },
   "file_extension": ".py",
   "mimetype": "text/x-python",
   "name": "python",
   "nbconvert_exporter": "python",
   "pygments_lexer": "ipython3",
   "version": "3.6.9"
  }
 },
 "nbformat": 4,
 "nbformat_minor": 2
}
