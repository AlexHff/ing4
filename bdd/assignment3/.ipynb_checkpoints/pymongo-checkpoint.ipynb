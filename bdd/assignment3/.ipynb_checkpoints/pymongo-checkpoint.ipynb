{
 "cells": [
  {
   "cell_type": "code",
   "execution_count": 2,
   "metadata": {},
   "outputs": [],
   "source": [
    "import pymongo\n",
    "client = pymongo.MongoClient('mongodb://localhost:27017/')\n",
    "db = client['company']\n",
    "col = db['employees']"
   ]
  },
  {
   "cell_type": "code",
   "execution_count": 34,
   "metadata": {},
   "outputs": [],
   "source": [
    "x = col.aggregate(\n",
    "    [\n",
    "        {\n",
    "            \"$group\":\n",
    "            {\n",
    "                \"_id\":\n",
    "                {\n",
    "                    \"dname\": \"$department.name\",\n",
    "                },\n",
    "                \"count\": { \"$sum\": 1 }\n",
    "            }\n",
    "        },\n",
    "        {\n",
    "            \"$match\":\n",
    "            {\n",
    "                \"department.name\":\n",
    "                {\n",
    "                    \"$exists\": \"true\",\n",
    "                    \"$ne\": \"null\"\n",
    "                },\n",
    "                \"count\": { \"$lte\": 5 }\n",
    "            }\n",
    "        }\n",
    "    ]\n",
    ")\n",
    "for i in x:\n",
    "    print(i)"
   ]
  },
  {
   "cell_type": "code",
   "execution_count": 5,
   "metadata": {},
   "outputs": [
    {
     "name": "stdout",
     "output_type": "stream",
     "text": [
      "{'salary': 5000.0}\n"
     ]
    }
   ],
   "source": [
    "x = col.find(\n",
    "    {},\n",
    "    {\n",
    "        'salary': 1,\n",
    "        '_id': 0\n",
    "    }\n",
    ").sort(\n",
    "    \"salary\",\n",
    "    -1\n",
    ").limit(1)\n",
    "for i in x:\n",
    "    print(i)"
   ]
  }
 ],
 "metadata": {
  "kernelspec": {
   "display_name": "Python 3",
   "language": "python",
   "name": "python3"
  },
  "language_info": {
   "codemirror_mode": {
    "name": "ipython",
    "version": 3
   },
   "file_extension": ".py",
   "mimetype": "text/x-python",
   "name": "python",
   "nbconvert_exporter": "python",
   "pygments_lexer": "ipython3",
   "version": "3.6.9"
  }
 },
 "nbformat": 4,
 "nbformat_minor": 2
}
